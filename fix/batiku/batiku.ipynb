{
 "cells": [
  {
   "cell_type": "code",
   "execution_count": 1,
   "metadata": {},
   "outputs": [],
   "source": [
    "import cv2\n",
    "import os\n",
    "import numpy as np\n",
    "import random\n",
    "import shutil\n",
    "import tensorflow as tf\n",
    "import seaborn as sns\n",
    "import matplotlib.pyplot as plt\n",
    "from imgaug import augmenters as iaa\n",
    "from sklearn.model_selection import train_test_split\n",
    "from sklearn.metrics import confusion_matrix, classification_report, precision_score, recall_score, f1_score\n",
    "from tensorflow.keras.preprocessing.image import ImageDataGenerator\n",
    "from tensorflow.keras.applications import MobileNetV2\n",
    "from tensorflow.keras.layers import GlobalAveragePooling2D, Dense, Dropout, BatchNormalization\n",
    "from tensorflow.keras.models import Model\n",
    "from tensorflow.keras.optimizers import Adam\n",
    "from tensorflow.keras.callbacks import EarlyStopping, ReduceLROnPlateau\n"
   ]
  },
  {
   "cell_type": "code",
   "execution_count": 2,
   "metadata": {},
   "outputs": [
    {
     "data": {
      "text/plain": [
       "['geblek-renteng',\n",
       " 'gentongan',\n",
       " 'liong',\n",
       " 'mega-mendung',\n",
       " 'parang',\n",
       " 'sekar-jagad',\n",
       " 'sidomukti',\n",
       " 'tambal',\n",
       " 'truntum',\n",
       " 'tujuh-rupa']"
      ]
     },
     "execution_count": 2,
     "metadata": {},
     "output_type": "execute_result"
    }
   ],
   "source": [
    "os.listdir('dataset')"
   ]
  },
  {
   "cell_type": "code",
   "execution_count": 3,
   "metadata": {},
   "outputs": [],
   "source": [
    "# Resize function\n",
    "def resize_image(image, target_size=(224, 224)):\n",
    "    resized_image = cv2.resize(image, target_size)\n",
    "    return resized_image"
   ]
  },
  {
   "cell_type": "code",
   "execution_count": 4,
   "metadata": {},
   "outputs": [],
   "source": [
    "def main():\n",
    "    # Path ke direktori input gambar\n",
    "    input_base_path = 'dataset/'\n",
    "    \n",
    "    # Path ke direktori output gambar\n",
    "    output_base_path = 'output_dataset/'\n",
    "\n",
    "    # Loop melalui setiap folder\n",
    "    for folder_name in os.listdir(input_base_path):\n",
    "        input_folder_path = os.path.join(input_base_path, folder_name)\n",
    "        output_folder_path = os.path.join(output_base_path, folder_name)\n",
    "\n",
    "        # Membuat direktori output jika belum ada\n",
    "        os.makedirs(output_folder_path, exist_ok=True)\n",
    "\n",
    "        # Loop melalui setiap file dalam folder input\n",
    "        for filename in os.listdir(input_folder_path):\n",
    "            input_image_path = os.path.join(input_folder_path, filename)\n",
    "            output_image_path = os.path.join(output_folder_path, filename)\n",
    "\n",
    "            # Pastikan file adalah file gambar\n",
    "            if os.path.isfile(input_image_path):\n",
    "                try:\n",
    "                    # Baca gambar\n",
    "                    image = cv2.imread(input_image_path)\n",
    "\n",
    "                    # Resize gambar\n",
    "                    resized_image = resize_image(image)\n",
    "\n",
    "                    # Simpan gambar yang telah diresize\n",
    "                    cv2.imwrite(output_image_path, resized_image)\n",
    "                except Exception as e:\n",
    "                    print(f\"Error resizing image {filename} pada folder {folder_name}: {str(e)}\")\n",
    "\n",
    "    print(\"Image resizing completed.\")"
   ]
  },
  {
   "cell_type": "code",
   "execution_count": 5,
   "metadata": {},
   "outputs": [
    {
     "name": "stdout",
     "output_type": "stream",
     "text": [
      "Image resizing completed.\n"
     ]
    }
   ],
   "source": [
    "if __name__ == \"__main__\":\n",
    "    main()"
   ]
  },
  {
   "cell_type": "code",
   "execution_count": 6,
   "metadata": {},
   "outputs": [],
   "source": [
    "def min_max_normalize_image(image):\n",
    "    # Konversi tipe data gambar ke float32\n",
    "    image = image.astype('float32')\n",
    "\n",
    "    # Normalisasi dengan Min-Max Scaling\n",
    "    min_val = np.min(image)\n",
    "    max_val = np.max(image)\n",
    "    if min_val == max_val:\n",
    "        return np.zeros_like(image)\n",
    "    else:\n",
    "        normalized_image = (image - min_val) / (max_val - min_val)\n",
    "        return normalized_image"
   ]
  },
  {
   "cell_type": "code",
   "execution_count": 7,
   "metadata": {},
   "outputs": [
    {
     "name": "stdout",
     "output_type": "stream",
     "text": [
      "Image normalization completed.\n"
     ]
    }
   ],
   "source": [
    "def main():\n",
    "    # Path ke direktori input gambar\n",
    "    input_base_path = 'output_dataset/'\n",
    "\n",
    "    # Loop melalui setiap folder di dalam direktori input\n",
    "    for folder_name in os.listdir(input_base_path):\n",
    "        input_folder_path = os.path.join(input_base_path, folder_name)\n",
    "\n",
    "        # Loop melalui setiap file dalam folder input\n",
    "        for filename in os.listdir(input_folder_path):\n",
    "            input_image_path = os.path.join(input_folder_path, filename)\n",
    "\n",
    "            # Pastikan file adalah file gambar\n",
    "            if os.path.isfile(input_image_path):\n",
    "                try:\n",
    "                    # Baca gambar\n",
    "                    image = cv2.imread(input_image_path)\n",
    "\n",
    "                    # Normalisasi gambar\n",
    "                    normalized_image = min_max_normalize_image(image)\n",
    "\n",
    "                    # Simpan gambar yang telah dinormalisasi (menimpa gambar asli)\n",
    "                    cv2.imwrite(input_image_path, normalized_image * 255)  # Kembalikan ke rentang 0-255 untuk menyimpan sebagai gambar\n",
    "                except Exception as e:\n",
    "                    print(f\"Error normalizing image {filename} pada folder {folder_name}: {str(e)}\")\n",
    "\n",
    "    print(\"Image normalization completed.\")\n",
    "\n",
    "# Panggil fungsi main\n",
    "if __name__ == \"__main__\":\n",
    "    main()"
   ]
  },
  {
   "cell_type": "code",
   "execution_count": 8,
   "metadata": {},
   "outputs": [],
   "source": [
    "def apply_clahe(image, clip_limit=2.0, tile_grid_size=(8, 8)):\n",
    "    # Konversi gambar ke ruang warna Lab (L: luminance, a/b: color channels)\n",
    "    lab_image = cv2.cvtColor(image, cv2.COLOR_BGR2LAB)\n",
    "\n",
    "    # Pisahkan saluran L dari gambar Lab\n",
    "    l_channel, a_channel, b_channel = cv2.split(lab_image)\n",
    "\n",
    "    # Terapkan CLAHE ke saluran L\n",
    "    clahe = cv2.createCLAHE(clipLimit=clip_limit, tileGridSize=tile_grid_size)\n",
    "    enhanced_l_channel = clahe.apply(l_channel)\n",
    "\n",
    "    # Gabungkan saluran yang diperbarui L dengan saluran a dan b yang asli\n",
    "    clahe_image = cv2.merge((enhanced_l_channel, a_channel, b_channel))\n",
    "\n",
    "    # Konversi kembali gambar ke ruang warna RGB\n",
    "    enhanced_image = cv2.cvtColor(clahe_image, cv2.COLOR_LAB2BGR)\n",
    "\n",
    "    return enhanced_image"
   ]
  },
  {
   "cell_type": "code",
   "execution_count": 9,
   "metadata": {},
   "outputs": [],
   "source": [
    "def main():\n",
    "    # Path ke direktori input gambar\n",
    "    input_base_path = 'output_dataset'\n",
    "    \n",
    "    # Loop melalui setiap folder di dalam direktori input\n",
    "    for folder_name in os.listdir(input_base_path):\n",
    "        input_folder_path = os.path.join(input_base_path, folder_name)\n",
    "\n",
    "        # Loop melalui setiap file dalam folder input\n",
    "        for filename in os.listdir(input_folder_path):\n",
    "            input_image_path = os.path.join(input_folder_path, filename)\n",
    "\n",
    "            # Pastikan file adalah file gambar\n",
    "            if os.path.isfile(input_image_path):\n",
    "                try:\n",
    "                    # Baca gambar\n",
    "                    image = cv2.imread(input_image_path)\n",
    "\n",
    "                    # Terapkan CLAHE untuk meningkatkan kontras gambar\n",
    "                    enhanced_image = apply_clahe(image)\n",
    "\n",
    "                    # Simpan gambar yang telah diperbarui, menggantikan yang lama\n",
    "                    cv2.imwrite(input_image_path, enhanced_image)\n",
    "                except Exception as e:\n",
    "                    print(f\"Error enhancing image {filename} pada folder {folder_name}: {str(e)}\")\n",
    "\n",
    "    print(\"Contrast enhancement with CLAHE completed.\")"
   ]
  },
  {
   "cell_type": "code",
   "execution_count": 10,
   "metadata": {},
   "outputs": [
    {
     "name": "stdout",
     "output_type": "stream",
     "text": [
      "Contrast enhancement with CLAHE completed.\n"
     ]
    }
   ],
   "source": [
    "if __name__ == \"__main__\":\n",
    "    main()"
   ]
  },
  {
   "cell_type": "code",
   "execution_count": 11,
   "metadata": {},
   "outputs": [
    {
     "name": "stdout",
     "output_type": "stream",
     "text": [
      "Augmentasi gambar selesai.\n"
     ]
    }
   ],
   "source": [
    "def augment_images(input_folder, num_images=10):\n",
    "    # Membuat objek augmenter untuk augmentasi gambar\n",
    "    seq = iaa.Sequential([\n",
    "        iaa.Fliplr(0.5),  # Memutar gambar secara horizontal dengan peluang 50%\n",
    "        iaa.Affine(rotate=(-20, 20)),  # Rotasi gambar sebesar -20 hingga 20 derajat\n",
    "        iaa.GaussianBlur(sigma=(0, 1.0)),  # Menambahkan Gaussian blur dengan sigma antara 0 dan 1.0\n",
    "        iaa.AdditiveGaussianNoise(scale=(0, 0.05 * 255)),  # Menambahkan Gaussian noise\n",
    "        iaa.Multiply((0.8, 1.2), per_channel=0.2),  # Mengalikan intensitas pixel dengan faktor antara 0.8 dan 1.2\n",
    "        iaa.LinearContrast((0.5, 2.0), per_channel=0.5),  # Menormalisasi kontras\n",
    "    ])\n",
    "\n",
    "    # Loop melalui setiap folder di dalam direktori input\n",
    "    for folder_name in os.listdir(input_folder):\n",
    "        input_folder_path = os.path.join(input_folder, folder_name)\n",
    "        if not os.path.isdir(input_folder_path):\n",
    "            continue\n",
    "\n",
    "        # Mendapatkan daftar semua gambar di folder input\n",
    "        image_files = [f for f in os.listdir(input_folder_path) if os.path.isfile(os.path.join(input_folder_path, f))]\n",
    "\n",
    "        # Memilih secara acak gambar dari folder tersebut\n",
    "        selected_files = random.sample(image_files, min(num_images, len(image_files)))\n",
    "\n",
    "        # Loop melalui gambar-gambar yang telah dipilih\n",
    "        for filename in selected_files:\n",
    "            input_image_path = os.path.join(input_folder_path, filename)\n",
    "            try:\n",
    "                # Membaca gambar\n",
    "                image = cv2.imread(input_image_path)\n",
    "\n",
    "                # Membuat variasi gambar dengan augmentasi\n",
    "                images_aug = [seq(image=image) for _ in range(num_images)]\n",
    "\n",
    "                # Menyimpan gambar-gambar yang telah di-augmentasi dengan menimpa gambar asli\n",
    "                for idx, image_aug in enumerate(images_aug):\n",
    "                    output_image_path = os.path.join(input_folder_path, f\"{filename.split('.')[0]}_{idx}.jpg\")\n",
    "                    cv2.imwrite(output_image_path, image_aug)\n",
    "\n",
    "                # Menghapus gambar asli\n",
    "                os.remove(input_image_path)\n",
    "            except Exception as e:\n",
    "                print(f\"Error saat melakukan augmentasi untuk gambar {filename} di folder {folder_name}: {str(e)}\")\n",
    "\n",
    "    print(\"Augmentasi gambar selesai.\")\n",
    "\n",
    "# Path ke direktori input\n",
    "input_folder_path = 'output_dataset'\n",
    "\n",
    "# Memanggil fungsi untuk melakukan augmentasi\n",
    "augment_images(input_folder_path, num_images=10)"
   ]
  },
  {
   "cell_type": "code",
   "execution_count": 12,
   "metadata": {},
   "outputs": [],
   "source": [
    "path = 'output_dataset/'\n",
    "split_path = 'split_dataset/'\n",
    "\n",
    "# Membuat folder train, test, dan val di dalam folder split\n",
    "train_path = os.path.join(split_path, 'train')\n",
    "test_path = os.path.join(split_path, 'test')\n",
    "val_path = os.path.join(split_path, 'val')\n",
    "os.makedirs(train_path, exist_ok=True)\n",
    "os.makedirs(test_path, exist_ok=True)\n",
    "os.makedirs(val_path, exist_ok=True)"
   ]
  },
  {
   "cell_type": "code",
   "execution_count": 13,
   "metadata": {},
   "outputs": [
    {
     "name": "stdout",
     "output_type": "stream",
     "text": [
      "File-file berhasil dibagi ke dalam folder train, test, dan val.\n"
     ]
    }
   ],
   "source": [
    "# Iterasi melalui setiap subfolder di dalam folder utama 'a'\n",
    "for subfolder in os.listdir(path):\n",
    "    subfolder_path = os.path.join(path, subfolder)\n",
    "    \n",
    "    # Pastikan yang diiterasi adalah folder (bukan file)\n",
    "    if os.path.isdir(subfolder_path):\n",
    "        # Buat folder masing-masing di dalam train, test, val\n",
    "        train_subfolder_path = os.path.join(train_path, subfolder)\n",
    "        test_subfolder_path = os.path.join(test_path, subfolder)\n",
    "        val_subfolder_path = os.path.join(val_path, subfolder)\n",
    "        os.makedirs(train_subfolder_path, exist_ok=True)\n",
    "        os.makedirs(test_subfolder_path, exist_ok=True)\n",
    "        os.makedirs(val_subfolder_path, exist_ok=True)\n",
    "        \n",
    "        # Ambil daftar file dalam subfolder\n",
    "        file_list = os.listdir(subfolder_path)\n",
    "        num_files = len(file_list)\n",
    "        \n",
    "        # Hitung jumlah file untuk train, test, val\n",
    "        num_train = int(0.7 * num_files)\n",
    "        num_test = int(0.2 * num_files)\n",
    "        num_val = num_files - num_train - num_test\n",
    "        \n",
    "        # Acak urutan file untuk memastikan pembagian random\n",
    "        random.shuffle(file_list)\n",
    "        \n",
    "        # Iterasi dan pindahkan file ke folder masing-masing\n",
    "        for i, file_name in enumerate(file_list):\n",
    "            old_path = os.path.join(subfolder_path, file_name)\n",
    "            \n",
    "            if i < num_train:\n",
    "                new_path = os.path.join(train_subfolder_path, file_name)\n",
    "            elif i < num_train + num_test:\n",
    "                new_path = os.path.join(test_subfolder_path, file_name)\n",
    "            else:\n",
    "                new_path = os.path.join(val_subfolder_path, file_name)\n",
    "            \n",
    "            # Pindahkan file ke folder baru\n",
    "            shutil.copy(old_path, new_path)  # Menggunakan shutil.copy untuk menyalin, bukan shutil.move\n",
    "            \n",
    "print(\"File-file berhasil dibagi ke dalam folder train, test, dan val.\")"
   ]
  },
  {
   "cell_type": "code",
   "execution_count": 14,
   "metadata": {},
   "outputs": [],
   "source": [
    "train_dir = 'split_dataset/train/'\n",
    "val_dir = 'split_dataset/val/'\n",
    "test_dir = 'split_dataset/test/'"
   ]
  },
  {
   "cell_type": "code",
   "execution_count": 15,
   "metadata": {},
   "outputs": [
    {
     "data": {
      "text/plain": [
       "['geblek-renteng',\n",
       " 'gentongan',\n",
       " 'liong',\n",
       " 'mega-mendung',\n",
       " 'parang',\n",
       " 'sekar-jagad',\n",
       " 'sidomukti',\n",
       " 'tambal',\n",
       " 'truntum',\n",
       " 'tujuh-rupa']"
      ]
     },
     "execution_count": 15,
     "metadata": {},
     "output_type": "execute_result"
    }
   ],
   "source": [
    "os.listdir(train_dir)"
   ]
  },
  {
   "cell_type": "code",
   "execution_count": 16,
   "metadata": {},
   "outputs": [],
   "source": [
    "#Hyperparameter\n",
    "image_size = (224, 224)\n",
    "batch_size = 32\n",
    "epochs = 25\n",
    "learning_rate = 0.0001"
   ]
  },
  {
   "cell_type": "code",
   "execution_count": 17,
   "metadata": {},
   "outputs": [
    {
     "name": "stdout",
     "output_type": "stream",
     "text": [
      "Found 980 images belonging to 10 classes.\n"
     ]
    }
   ],
   "source": [
    "train_datagen = ImageDataGenerator(rescale=1./255)\n",
    "train_generator = train_datagen.flow_from_directory(\n",
    "    train_dir,\n",
    "    target_size=image_size,\n",
    "    batch_size=batch_size,\n",
    "    class_mode='categorical'\n",
    ")"
   ]
  },
  {
   "cell_type": "code",
   "execution_count": 18,
   "metadata": {},
   "outputs": [
    {
     "name": "stdout",
     "output_type": "stream",
     "text": [
      "Found 140 images belonging to 10 classes.\n"
     ]
    }
   ],
   "source": [
    "validation_datagen = ImageDataGenerator(rescale=1./255)\n",
    "validation_generator = validation_datagen.flow_from_directory(\n",
    "    val_dir,\n",
    "    target_size=image_size,\n",
    "    batch_size=batch_size,\n",
    "    class_mode='categorical'\n",
    ")"
   ]
  },
  {
   "cell_type": "code",
   "execution_count": 19,
   "metadata": {},
   "outputs": [
    {
     "name": "stdout",
     "output_type": "stream",
     "text": [
      "Found 280 images belonging to 10 classes.\n"
     ]
    }
   ],
   "source": [
    "test_datagen = ImageDataGenerator(rescale=1./255)\n",
    "test_generator = test_datagen.flow_from_directory(\n",
    "    test_dir,\n",
    "    target_size=image_size,\n",
    "    batch_size=batch_size,\n",
    "    class_mode='categorical',\n",
    "    shuffle=False\n",
    ")"
   ]
  },
  {
   "cell_type": "code",
   "execution_count": 20,
   "metadata": {},
   "outputs": [
    {
     "name": "stderr",
     "output_type": "stream",
     "text": [
      "C:\\Users\\hp\\AppData\\Local\\Temp\\ipykernel_33120\\2261410678.py:1: UserWarning: `input_shape` is undefined or non-square, or `rows` is not in [96, 128, 160, 192, 224]. Weights for input shape (224, 224) will be loaded as the default.\n",
      "  base_model = MobileNetV2(weights='imagenet', include_top=False)\n"
     ]
    }
   ],
   "source": [
    "base_model = MobileNetV2(weights='imagenet', include_top=False)\n",
    "\n",
    "# Build the model\n",
    "x = base_model.output\n",
    "x = GlobalAveragePooling2D()(x)\n",
    "x = Dense(1024, activation='relu')(x)\n",
    "x = BatchNormalization()(x)\n",
    "x = Dropout(0.5)(x)\n",
    "predictions = Dense(train_generator.num_classes, activation='softmax')(x)\n",
    "\n",
    "model = Model(inputs=base_model.input, outputs=predictions)\n",
    "\n",
    "for layer in base_model.layers:\n",
    "    layer.trainable = False\n",
    "\n",
    "model.compile(optimizer=Adam(learning_rate=0.001), loss='categorical_crossentropy', metrics=['accuracy'])"
   ]
  },
  {
   "cell_type": "code",
   "execution_count": 21,
   "metadata": {},
   "outputs": [],
   "source": [
    "# Callbacks for early stopping and learning rate reduction\n",
    "early_stopping = EarlyStopping(monitor='val_loss', patience=10, restore_best_weights=True)\n",
    "reduce_lr = ReduceLROnPlateau(monitor='val_loss', factor=0.2, patience=5, min_lr=1e-6)"
   ]
  },
  {
   "cell_type": "code",
   "execution_count": 22,
   "metadata": {},
   "outputs": [
    {
     "name": "stdout",
     "output_type": "stream",
     "text": [
      "Epoch 1/25\n"
     ]
    },
    {
     "name": "stderr",
     "output_type": "stream",
     "text": [
      "C:\\Users\\hp\\AppData\\Roaming\\Python\\Python311\\site-packages\\keras\\src\\trainers\\data_adapters\\py_dataset_adapter.py:121: UserWarning: Your `PyDataset` class should call `super().__init__(**kwargs)` in its constructor. `**kwargs` can include `workers`, `use_multiprocessing`, `max_queue_size`. Do not pass these arguments to `fit()`, as they will be ignored.\n",
      "  self._warn_if_super_not_called()\n"
     ]
    },
    {
     "name": "stdout",
     "output_type": "stream",
     "text": [
      "\u001b[1m31/31\u001b[0m \u001b[32m━━━━━━━━━━━━━━━━━━━━\u001b[0m\u001b[37m\u001b[0m \u001b[1m25s\u001b[0m 568ms/step - accuracy: 0.5452 - loss: 1.5962 - val_accuracy: 0.8429 - val_loss: 0.4428 - learning_rate: 0.0010\n",
      "Epoch 2/25\n",
      "\u001b[1m31/31\u001b[0m \u001b[32m━━━━━━━━━━━━━━━━━━━━\u001b[0m\u001b[37m\u001b[0m \u001b[1m12s\u001b[0m 380ms/step - accuracy: 0.9530 - loss: 0.1432 - val_accuracy: 0.9429 - val_loss: 0.2259 - learning_rate: 0.0010\n",
      "Epoch 3/25\n",
      "\u001b[1m31/31\u001b[0m \u001b[32m━━━━━━━━━━━━━━━━━━━━\u001b[0m\u001b[37m\u001b[0m \u001b[1m11s\u001b[0m 365ms/step - accuracy: 0.9788 - loss: 0.0572 - val_accuracy: 0.9571 - val_loss: 0.1769 - learning_rate: 0.0010\n",
      "Epoch 4/25\n",
      "\u001b[1m31/31\u001b[0m \u001b[32m━━━━━━━━━━━━━━━━━━━━\u001b[0m\u001b[37m\u001b[0m \u001b[1m12s\u001b[0m 383ms/step - accuracy: 0.9953 - loss: 0.0184 - val_accuracy: 0.9643 - val_loss: 0.1830 - learning_rate: 0.0010\n",
      "Epoch 5/25\n",
      "\u001b[1m31/31\u001b[0m \u001b[32m━━━━━━━━━━━━━━━━━━━━\u001b[0m\u001b[37m\u001b[0m \u001b[1m12s\u001b[0m 377ms/step - accuracy: 0.9918 - loss: 0.0294 - val_accuracy: 0.9643 - val_loss: 0.1594 - learning_rate: 0.0010\n",
      "Epoch 6/25\n",
      "\u001b[1m31/31\u001b[0m \u001b[32m━━━━━━━━━━━━━━━━━━━━\u001b[0m\u001b[37m\u001b[0m \u001b[1m13s\u001b[0m 401ms/step - accuracy: 0.9991 - loss: 0.0128 - val_accuracy: 0.9571 - val_loss: 0.1748 - learning_rate: 0.0010\n",
      "Epoch 7/25\n",
      "\u001b[1m31/31\u001b[0m \u001b[32m━━━━━━━━━━━━━━━━━━━━\u001b[0m\u001b[37m\u001b[0m \u001b[1m17s\u001b[0m 536ms/step - accuracy: 0.9936 - loss: 0.0183 - val_accuracy: 0.9500 - val_loss: 0.1767 - learning_rate: 0.0010\n",
      "Epoch 8/25\n",
      "\u001b[1m31/31\u001b[0m \u001b[32m━━━━━━━━━━━━━━━━━━━━\u001b[0m\u001b[37m\u001b[0m \u001b[1m13s\u001b[0m 387ms/step - accuracy: 0.9953 - loss: 0.0167 - val_accuracy: 0.9500 - val_loss: 0.1738 - learning_rate: 0.0010\n",
      "Epoch 9/25\n",
      "\u001b[1m31/31\u001b[0m \u001b[32m━━━━━━━━━━━━━━━━━━━━\u001b[0m\u001b[37m\u001b[0m \u001b[1m12s\u001b[0m 396ms/step - accuracy: 0.9988 - loss: 0.0127 - val_accuracy: 0.9571 - val_loss: 0.1504 - learning_rate: 0.0010\n",
      "Epoch 10/25\n",
      "\u001b[1m31/31\u001b[0m \u001b[32m━━━━━━━━━━━━━━━━━━━━\u001b[0m\u001b[37m\u001b[0m \u001b[1m12s\u001b[0m 387ms/step - accuracy: 0.9988 - loss: 0.0083 - val_accuracy: 0.9643 - val_loss: 0.1463 - learning_rate: 0.0010\n",
      "Epoch 11/25\n",
      "\u001b[1m31/31\u001b[0m \u001b[32m━━━━━━━━━━━━━━━━━━━━\u001b[0m\u001b[37m\u001b[0m \u001b[1m11s\u001b[0m 343ms/step - accuracy: 0.9999 - loss: 0.0064 - val_accuracy: 0.9643 - val_loss: 0.1496 - learning_rate: 0.0010\n",
      "Epoch 12/25\n",
      "\u001b[1m31/31\u001b[0m \u001b[32m━━━━━━━━━━━━━━━━━━━━\u001b[0m\u001b[37m\u001b[0m \u001b[1m17s\u001b[0m 552ms/step - accuracy: 1.0000 - loss: 0.0047 - val_accuracy: 0.9643 - val_loss: 0.1422 - learning_rate: 0.0010\n",
      "Epoch 13/25\n",
      "\u001b[1m31/31\u001b[0m \u001b[32m━━━━━━━━━━━━━━━━━━━━\u001b[0m\u001b[37m\u001b[0m \u001b[1m17s\u001b[0m 532ms/step - accuracy: 1.0000 - loss: 0.0037 - val_accuracy: 0.9643 - val_loss: 0.1356 - learning_rate: 0.0010\n",
      "Epoch 14/25\n",
      "\u001b[1m31/31\u001b[0m \u001b[32m━━━━━━━━━━━━━━━━━━━━\u001b[0m\u001b[37m\u001b[0m \u001b[1m11s\u001b[0m 355ms/step - accuracy: 1.0000 - loss: 0.0043 - val_accuracy: 0.9714 - val_loss: 0.1139 - learning_rate: 0.0010\n",
      "Epoch 15/25\n",
      "\u001b[1m31/31\u001b[0m \u001b[32m━━━━━━━━━━━━━━━━━━━━\u001b[0m\u001b[37m\u001b[0m \u001b[1m11s\u001b[0m 355ms/step - accuracy: 1.0000 - loss: 0.0033 - val_accuracy: 0.9571 - val_loss: 0.1177 - learning_rate: 0.0010\n",
      "Epoch 16/25\n",
      "\u001b[1m31/31\u001b[0m \u001b[32m━━━━━━━━━━━━━━━━━━━━\u001b[0m\u001b[37m\u001b[0m \u001b[1m12s\u001b[0m 392ms/step - accuracy: 1.0000 - loss: 0.0025 - val_accuracy: 0.9500 - val_loss: 0.1352 - learning_rate: 0.0010\n",
      "Epoch 17/25\n",
      "\u001b[1m31/31\u001b[0m \u001b[32m━━━━━━━━━━━━━━━━━━━━\u001b[0m\u001b[37m\u001b[0m \u001b[1m17s\u001b[0m 539ms/step - accuracy: 1.0000 - loss: 0.0039 - val_accuracy: 0.9571 - val_loss: 0.1392 - learning_rate: 0.0010\n",
      "Epoch 18/25\n",
      "\u001b[1m31/31\u001b[0m \u001b[32m━━━━━━━━━━━━━━━━━━━━\u001b[0m\u001b[37m\u001b[0m \u001b[1m16s\u001b[0m 504ms/step - accuracy: 1.0000 - loss: 0.0038 - val_accuracy: 0.9500 - val_loss: 0.1279 - learning_rate: 0.0010\n",
      "Epoch 19/25\n",
      "\u001b[1m31/31\u001b[0m \u001b[32m━━━━━━━━━━━━━━━━━━━━\u001b[0m\u001b[37m\u001b[0m \u001b[1m16s\u001b[0m 500ms/step - accuracy: 0.9960 - loss: 0.0083 - val_accuracy: 0.9643 - val_loss: 0.1067 - learning_rate: 0.0010\n",
      "Epoch 20/25\n",
      "\u001b[1m31/31\u001b[0m \u001b[32m━━━━━━━━━━━━━━━━━━━━\u001b[0m\u001b[37m\u001b[0m \u001b[1m17s\u001b[0m 514ms/step - accuracy: 1.0000 - loss: 0.0023 - val_accuracy: 0.9643 - val_loss: 0.1004 - learning_rate: 0.0010\n",
      "Epoch 21/25\n",
      "\u001b[1m31/31\u001b[0m \u001b[32m━━━━━━━━━━━━━━━━━━━━\u001b[0m\u001b[37m\u001b[0m \u001b[1m16s\u001b[0m 501ms/step - accuracy: 1.0000 - loss: 0.0023 - val_accuracy: 0.9714 - val_loss: 0.1009 - learning_rate: 0.0010\n",
      "Epoch 22/25\n",
      "\u001b[1m31/31\u001b[0m \u001b[32m━━━━━━━━━━━━━━━━━━━━\u001b[0m\u001b[37m\u001b[0m \u001b[1m16s\u001b[0m 496ms/step - accuracy: 1.0000 - loss: 0.0023 - val_accuracy: 0.9786 - val_loss: 0.1074 - learning_rate: 0.0010\n",
      "Epoch 23/25\n",
      "\u001b[1m31/31\u001b[0m \u001b[32m━━━━━━━━━━━━━━━━━━━━\u001b[0m\u001b[37m\u001b[0m \u001b[1m16s\u001b[0m 499ms/step - accuracy: 1.0000 - loss: 9.6327e-04 - val_accuracy: 0.9786 - val_loss: 0.1074 - learning_rate: 0.0010\n",
      "Epoch 24/25\n",
      "\u001b[1m31/31\u001b[0m \u001b[32m━━━━━━━━━━━━━━━━━━━━\u001b[0m\u001b[37m\u001b[0m \u001b[1m16s\u001b[0m 497ms/step - accuracy: 0.9992 - loss: 0.0024 - val_accuracy: 0.9714 - val_loss: 0.1217 - learning_rate: 0.0010\n",
      "Epoch 25/25\n",
      "\u001b[1m31/31\u001b[0m \u001b[32m━━━━━━━━━━━━━━━━━━━━\u001b[0m\u001b[37m\u001b[0m \u001b[1m16s\u001b[0m 497ms/step - accuracy: 1.0000 - loss: 0.0015 - val_accuracy: 0.9714 - val_loss: 0.1166 - learning_rate: 0.0010\n"
     ]
    }
   ],
   "source": [
    "# Train the model\n",
    "history = model.fit(\n",
    "    train_generator,\n",
    "    epochs=epochs,\n",
    "    validation_data=validation_generator,\n",
    "    callbacks=[early_stopping, reduce_lr],\n",
    "    verbose=1\n",
    ")"
   ]
  },
  {
   "cell_type": "code",
   "execution_count": 23,
   "metadata": {},
   "outputs": [],
   "source": [
    "# Fine-tune some layers of the base model\n",
    "for layer in base_model.layers[-30:]:\n",
    "    layer.trainable = True"
   ]
  },
  {
   "cell_type": "code",
   "execution_count": 24,
   "metadata": {},
   "outputs": [
    {
     "name": "stdout",
     "output_type": "stream",
     "text": [
      "Epoch 1/25\n",
      "\u001b[1m31/31\u001b[0m \u001b[32m━━━━━━━━━━━━━━━━━━━━\u001b[0m\u001b[37m\u001b[0m \u001b[1m56s\u001b[0m 842ms/step - accuracy: 0.8130 - loss: 0.5887 - val_accuracy: 0.9714 - val_loss: 0.1143 - learning_rate: 1.0000e-05\n",
      "Epoch 2/25\n",
      "\u001b[1m31/31\u001b[0m \u001b[32m━━━━━━━━━━━━━━━━━━━━\u001b[0m\u001b[37m\u001b[0m \u001b[1m23s\u001b[0m 732ms/step - accuracy: 0.8615 - loss: 0.4619 - val_accuracy: 0.9714 - val_loss: 0.1291 - learning_rate: 1.0000e-05\n",
      "Epoch 3/25\n",
      "\u001b[1m31/31\u001b[0m \u001b[32m━━━━━━━━━━━━━━━━━━━━\u001b[0m\u001b[37m\u001b[0m \u001b[1m22s\u001b[0m 683ms/step - accuracy: 0.8694 - loss: 0.3687 - val_accuracy: 0.9714 - val_loss: 0.1449 - learning_rate: 1.0000e-05\n",
      "Epoch 4/25\n",
      "\u001b[1m31/31\u001b[0m \u001b[32m━━━━━━━━━━━━━━━━━━━━\u001b[0m\u001b[37m\u001b[0m \u001b[1m27s\u001b[0m 841ms/step - accuracy: 0.9277 - loss: 0.2237 - val_accuracy: 0.9643 - val_loss: 0.1610 - learning_rate: 1.0000e-05\n",
      "Epoch 5/25\n",
      "\u001b[1m31/31\u001b[0m \u001b[32m━━━━━━━━━━━━━━━━━━━━\u001b[0m\u001b[37m\u001b[0m \u001b[1m31s\u001b[0m 982ms/step - accuracy: 0.9352 - loss: 0.2001 - val_accuracy: 0.9429 - val_loss: 0.1791 - learning_rate: 1.0000e-05\n",
      "Epoch 6/25\n",
      "\u001b[1m31/31\u001b[0m \u001b[32m━━━━━━━━━━━━━━━━━━━━\u001b[0m\u001b[37m\u001b[0m \u001b[1m34s\u001b[0m 1s/step - accuracy: 0.9503 - loss: 0.1627 - val_accuracy: 0.9500 - val_loss: 0.1883 - learning_rate: 1.0000e-05\n",
      "Epoch 7/25\n",
      "\u001b[1m31/31\u001b[0m \u001b[32m━━━━━━━━━━━━━━━━━━━━\u001b[0m\u001b[37m\u001b[0m \u001b[1m25s\u001b[0m 766ms/step - accuracy: 0.9428 - loss: 0.1527 - val_accuracy: 0.9500 - val_loss: 0.2000 - learning_rate: 2.0000e-06\n",
      "Epoch 8/25\n",
      "\u001b[1m31/31\u001b[0m \u001b[32m━━━━━━━━━━━━━━━━━━━━\u001b[0m\u001b[37m\u001b[0m \u001b[1m29s\u001b[0m 936ms/step - accuracy: 0.9657 - loss: 0.1346 - val_accuracy: 0.9500 - val_loss: 0.2082 - learning_rate: 2.0000e-06\n",
      "Epoch 9/25\n",
      "\u001b[1m31/31\u001b[0m \u001b[32m━━━━━━━━━━━━━━━━━━━━\u001b[0m\u001b[37m\u001b[0m \u001b[1m23s\u001b[0m 713ms/step - accuracy: 0.9492 - loss: 0.1436 - val_accuracy: 0.9500 - val_loss: 0.2142 - learning_rate: 2.0000e-06\n",
      "Epoch 10/25\n",
      "\u001b[1m31/31\u001b[0m \u001b[32m━━━━━━━━━━━━━━━━━━━━\u001b[0m\u001b[37m\u001b[0m \u001b[1m23s\u001b[0m 703ms/step - accuracy: 0.9609 - loss: 0.1167 - val_accuracy: 0.9500 - val_loss: 0.2188 - learning_rate: 2.0000e-06\n"
     ]
    }
   ],
   "source": [
    "# Recompile the model with a lower learning rate for fine-tuning\n",
    "model.compile(optimizer=Adam(learning_rate=learning_rate * 0.1), loss='categorical_crossentropy', metrics=['accuracy'])\n",
    "\n",
    "# Fine-tune the model\n",
    "history_fine_tune = model.fit(\n",
    "    train_generator,\n",
    "    epochs=epochs,\n",
    "    validation_data=validation_generator,\n",
    "    callbacks=[early_stopping, reduce_lr],\n",
    "    verbose=1\n",
    ")"
   ]
  },
  {
   "cell_type": "code",
   "execution_count": 25,
   "metadata": {},
   "outputs": [
    {
     "name": "stdout",
     "output_type": "stream",
     "text": [
      "9/9 - 6s - 677ms/step - accuracy: 0.9607 - loss: 0.2031\n",
      "Test accuracy: 0.9607142806053162\n"
     ]
    }
   ],
   "source": [
    "# Evaluate the model on the test data\n",
    "test_loss, test_acc = model.evaluate(test_generator, verbose=2)\n",
    "print(f'Test accuracy: {test_acc}')\n"
   ]
  },
  {
   "cell_type": "code",
   "execution_count": 26,
   "metadata": {},
   "outputs": [],
   "source": [
    "# Get class labels\n",
    "class_labels = list(test_generator.class_indices.keys())"
   ]
  },
  {
   "cell_type": "code",
   "execution_count": 27,
   "metadata": {},
   "outputs": [
    {
     "name": "stdout",
     "output_type": "stream",
     "text": [
      "\u001b[1m9/9\u001b[0m \u001b[32m━━━━━━━━━━━━━━━━━━━━\u001b[0m\u001b[37m\u001b[0m \u001b[1m13s\u001b[0m 991ms/step\n"
     ]
    }
   ],
   "source": [
    "# Make predictions on the test data\n",
    "test_generator.reset()\n",
    "predictions = model.predict(test_generator, verbose=1)\n",
    "predicted_classes = np.argmax(predictions, axis=1)"
   ]
  },
  {
   "cell_type": "code",
   "execution_count": 28,
   "metadata": {},
   "outputs": [],
   "source": [
    "# True classes\n",
    "true_classes = test_generator.classes\n",
    "\n",
    "# Confusion Matrix\n",
    "cm = confusion_matrix(true_classes, predicted_classes)"
   ]
  },
  {
   "cell_type": "code",
   "execution_count": 29,
   "metadata": {},
   "outputs": [
    {
     "data": {
      "image/png": "[encoded data removed]",
      "text/plain": [
       "<Figure size 1000x800 with 2 Axes>"
      ]
     },
     "metadata": {},
     "output_type": "display_data"
    },
    {
     "name": "stdout",
     "output_type": "stream",
     "text": [
      "                precision    recall  f1-score   support\n",
      "\n",
      "geblek-renteng       1.00      0.96      0.98        28\n",
      "     gentongan       0.89      0.89      0.89        28\n",
      "         liong       0.96      0.96      0.96        28\n",
      "  mega-mendung       1.00      1.00      1.00        28\n",
      "        parang       1.00      1.00      1.00        28\n",
      "   sekar-jagad       0.93      0.93      0.93        28\n",
      "     sidomukti       0.96      0.96      0.96        28\n",
      "        tambal       0.93      0.96      0.95        28\n",
      "       truntum       0.96      0.93      0.95        28\n",
      "    tujuh-rupa       0.97      1.00      0.98        28\n",
      "\n",
      "      accuracy                           0.96       280\n",
      "     macro avg       0.96      0.96      0.96       280\n",
      "  weighted avg       0.96      0.96      0.96       280\n",
      "\n"
     ]
    }
   ],
   "source": [
    "# Plot Confusion Matrix\n",
    "plt.figure(figsize=(10, 8))\n",
    "sns.heatmap(cm, annot=True, fmt='d', cmap='Blues', xticklabels=class_labels, yticklabels=class_labels)\n",
    "plt.xlabel('Predicted Label')\n",
    "plt.ylabel('True Label')\n",
    "plt.title('Confusion Matrix')\n",
    "plt.show()\n",
    "\n",
    "# Classification Report\n",
    "report = classification_report(true_classes, predicted_classes, target_names=class_labels)\n",
    "print(report)"
   ]
  },
  {
   "cell_type": "code",
   "execution_count": 30,
   "metadata": {},
   "outputs": [
    {
     "name": "stdout",
     "output_type": "stream",
     "text": [
      "Precision: 0.9609514687100894\n",
      "Recall: 0.9607142857142857\n",
      "F1 Score: 0.9607097288676237\n"
     ]
    }
   ],
   "source": [
    "# Calculate precision, recall, and f1-score\n",
    "precision = precision_score(true_classes, predicted_classes, average='weighted')\n",
    "recall = recall_score(true_classes, predicted_classes, average='weighted')\n",
    "f1 = f1_score(true_classes, predicted_classes, average='weighted')\n",
    "\n",
    "print(f'Precision: {precision}')\n",
    "print(f'Recall: {recall}')\n",
    "print(f'F1 Score: {f1}')"
   ]
  },
  {
   "cell_type": "code",
   "execution_count": 32,
   "metadata": {},
   "outputs": [
    {
     "name": "stderr",
     "output_type": "stream",
     "text": [
      "WARNING:absl:You are saving your model as an HDF5 file via `model.save()` or `keras.saving.save_model(model)`. This file format is considered legacy. We recommend using instead the native Keras format, e.g. `model.save('my_model.keras')` or `keras.saving.save_model(model, 'my_model.keras')`. \n"
     ]
    }
   ],
   "source": [
    "model.save(\"model.h5\")"
   ]
  }
 ],
 "metadata": {
  "kernelspec": {
   "display_name": "base",
   "language": "python",
   "name": "python3"
  },
  "language_info": {
   "codemirror_mode": {
    "name": "ipython",
    "version": 3
   },
   "file_extension": ".py",
   "mimetype": "text/x-python",
   "name": "python",
   "nbconvert_exporter": "python",
   "pygments_lexer": "ipython3",
   "version": "3.11.4"
  }
 },
 "nbformat": 4,
 "nbformat_minor": 2
}
