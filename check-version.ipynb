{
 "cells": [
  {
   "cell_type": "code",
   "execution_count": null,
   "metadata": {},
   "outputs": [
    {
     "ename": "",
     "evalue": "",
     "output_type": "error",
     "traceback": [
      "\u001b[1;31mThe kernel failed to start as 'TypeAliasType' could not be imported from 'c:\\Users\\hp\\AppData\\Local\\Programs\\Python\\Python310\\lib\\site-packages\\typing_extensions.py'.\n",
      "\u001b[1;31mClick <a href='https://aka.ms/kernelFailuresModuleImportErrFromFile'>here</a> for more info."
     ]
    }
   ],
   "source": [
    "import numpy as np\n",
    "import sys\n",
    "import keras\n",
    "import tensorflow as tf\n",
    "import sklearn\n",
    "import seaborn as sns\n",
    "import matplotlib"
   ]
  },
  {
   "cell_type": "code",
   "execution_count": null,
   "metadata": {},
   "outputs": [
    {
     "name": "stdout",
     "output_type": "stream",
     "text": [
      "Versi NumPy: 1.23.5\n",
      "Versi Python: 3.10.9 (tags/v3.10.9:1dd9be6, Dec  6 2022, 20:01:21) [MSC v.1934 64 bit (AMD64)]\n",
      "Versi Keras: 3.3.2\n",
      "Versi TensorFlow: 2.16.1\n",
      "Versi Scikit-learn: 1.2.1\n",
      "Versi Seaborn: 0.12.2\n",
      "Versi Matplotlib: 3.7.0\n"
     ]
    }
   ],
   "source": [
    "print(\"Versi NumPy:\", np.__version__)\n",
    "print(\"Versi Python:\", sys.version)\n",
    "print(\"Versi Keras:\", keras.__version__)\n",
    "print(\"Versi TensorFlow:\", tf.__version__)\n",
    "print(\"Versi Scikit-learn:\", sklearn.__version__)\n",
    "print(\"Versi Seaborn:\", sns.__version__)\n",
    "print(\"Versi Matplotlib:\", matplotlib.__version__)"
   ]
  }
 ],
 "metadata": {
  "kernelspec": {
   "display_name": "Python 3",
   "language": "python",
   "name": "python3"
  },
  "language_info": {
   "codemirror_mode": {
    "name": "ipython",
    "version": 3
   },
   "file_extension": ".py",
   "mimetype": "text/x-python",
   "name": "python",
   "nbconvert_exporter": "python",
   "pygments_lexer": "ipython3",
   "version": "3.10.9"
  }
 },
 "nbformat": 4,
 "nbformat_minor": 2
}
