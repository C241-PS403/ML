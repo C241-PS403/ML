{
 "cells": [
  {
   "cell_type": "code",
   "execution_count": 1,
   "metadata": {},
   "outputs": [],
   "source": [
    "from PIL import Image\n",
    "import os"
   ]
  },
  {
   "cell_type": "code",
   "execution_count": 2,
   "metadata": {},
   "outputs": [],
   "source": [
    "def check_image_format(image_path):\n",
    "    try:\n",
    "        with Image.open(image_path) as img:\n",
    "            return img.format\n",
    "    except Exception as e:\n",
    "        print(f\"Error reading {image_path}: {e}\")\n",
    "        return None"
   ]
  },
  {
   "cell_type": "code",
   "execution_count": 3,
   "metadata": {},
   "outputs": [],
   "source": [
    "# Tentukan path folder dataset\n",
    "dataset_dir = 'C:/Bangkit/ML/code/preprocessing/format/dataset-format'\n",
    "\n",
    "# List folder dalam dataset\n",
    "folders = os.listdir(dataset_dir)\n",
    "\n",
    "# Dictionary untuk menyimpan hasil pengecekan format gambar\n",
    "image_formats = {}"
   ]
  },
  {
   "cell_type": "code",
   "execution_count": 4,
   "metadata": {},
   "outputs": [
    {
     "name": "stdout",
     "output_type": "stream",
     "text": [
      "Format: JPEG, Count: 1500\n"
     ]
    }
   ],
   "source": [
    "# Loop melalui setiap folder dan membaca gambar\n",
    "for folder in folders:\n",
    "    folder_path = os.path.join(dataset_dir, folder)\n",
    "    if os.path.isdir(folder_path):\n",
    "        image_files = os.listdir(folder_path)\n",
    "        for image_file in image_files:\n",
    "            image_path = os.path.join(folder_path, image_file)\n",
    "            # Memeriksa format gambar\n",
    "            image_format = check_image_format(image_path)\n",
    "            if image_format:\n",
    "                if image_format not in image_formats:\n",
    "                    image_formats[image_format] = 0\n",
    "                image_formats[image_format] += 1\n",
    "\n",
    "# Menampilkan hasil pengecekan format gambar\n",
    "for image_format, count in image_formats.items():\n",
    "    print(f\"Format: {image_format}, Count: {count}\")"
   ]
  }
 ],
 "metadata": {
  "kernelspec": {
   "display_name": "Python 3",
   "language": "python",
   "name": "python3"
  },
  "language_info": {
   "codemirror_mode": {
    "name": "ipython",
    "version": 3
   },
   "file_extension": ".py",
   "mimetype": "text/x-python",
   "name": "python",
   "nbconvert_exporter": "python",
   "pygments_lexer": "ipython3",
   "version": "3.11.4"
  }
 },
 "nbformat": 4,
 "nbformat_minor": 2
}
