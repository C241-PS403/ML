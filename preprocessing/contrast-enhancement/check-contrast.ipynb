{
 "cells": [
  {
   "cell_type": "markdown",
   "metadata": {},
   "source": [
    "Check Contrast"
   ]
  },
  {
   "cell_type": "code",
   "execution_count": 43,
   "metadata": {},
   "outputs": [],
   "source": [
    "import cv2\n",
    "import os\n",
    "import csv"
   ]
  },
  {
   "cell_type": "code",
   "execution_count": 44,
   "metadata": {},
   "outputs": [],
   "source": [
    "def calculate_contrast(image_path):\n",
    "    img = cv2.imread(image_path, cv2.IMREAD_GRAYSCALE)\n",
    "    contrast = cv2.Laplacian(img, cv2.CV_64F).var()\n",
    "    return contrast"
   ]
  },
  {
   "cell_type": "code",
   "execution_count": 45,
   "metadata": {},
   "outputs": [],
   "source": [
    "def main():\n",
    "    base_dir = \"C:\\\\Bangkit\\\\ML\\\\code\\\\preprocessing\\\\contrast-enhancement\\\\new-dataset-contrast-enhance\"\n",
    "    folder_names = [\"check1\", \"check2\", \"check3\", \"check4\", \"check5\", \"check6\", \"check7\", \"check8\", \"check9\", \"check10\"]\n",
    "    output_file = \"C:\\\\Bangkit\\\\ML\\\\code\\\\preprocessing\\\\contrast-enhancement\\\\after-contrast-analysis.csv\"\n",
    "\n",
    "    \n",
    "    with open(output_file, mode='w', newline='') as csvfile:\n",
    "            fieldnames = ['Image', 'Contrast', 'Folder']\n",
    "            writer = csv.DictWriter(csvfile, fieldnames=fieldnames)\n",
    "            writer.writeheader()\n",
    "\n",
    "            for folder_name in folder_names:\n",
    "                folder_path = os.path.join(base_dir, folder_name)\n",
    "                images = os.listdir(folder_path)\n",
    "                for image_name in images:\n",
    "                    image_path = os.path.join(folder_path, image_name)\n",
    "                    contrast = calculate_contrast(image_path)\n",
    "                    writer.writerow({'Image': image_name, 'Contrast': contrast, 'Folder': folder_name})\n",
    "\n",
    "    print(\"Contrast analysis saved to:\", output_file)"
   ]
  },
  {
   "cell_type": "code",
   "execution_count": 46,
   "metadata": {},
   "outputs": [
    {
     "name": "stdout",
     "output_type": "stream",
     "text": [
      "Contrast analysis saved to: C:\\Bangkit\\ML\\code\\preprocessing\\contrast-enhancement\\after-contrast-analysis.csv\n"
     ]
    }
   ],
   "source": [
    "if __name__ == \"__main__\":\n",
    "    main()"
   ]
  }
 ],
 "metadata": {
  "kernelspec": {
   "display_name": "Python 3",
   "language": "python",
   "name": "python3"
  },
  "language_info": {
   "codemirror_mode": {
    "name": "ipython",
    "version": 3
   },
   "file_extension": ".py",
   "mimetype": "text/x-python",
   "name": "python",
   "nbconvert_exporter": "python",
   "pygments_lexer": "ipython3",
   "version": "3.11.4"
  }
 },
 "nbformat": 4,
 "nbformat_minor": 2
}
