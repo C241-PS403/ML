{
 "cells": [
  {
   "cell_type": "markdown",
   "metadata": {},
   "source": [
    "Improving Contrast"
   ]
  },
  {
   "cell_type": "code",
   "execution_count": 5,
   "metadata": {},
   "outputs": [],
   "source": [
    "import cv2\n",
    "import os"
   ]
  },
  {
   "cell_type": "code",
   "execution_count": 6,
   "metadata": {},
   "outputs": [],
   "source": [
    "def contrast_enhancement(image):\n",
    "    # Kontras Enhancement menggunakan Histogram Equalization\n",
    "    gray_image = cv2.cvtColor(image, cv2.COLOR_BGR2GRAY)\n",
    "    enhanced_image = cv2.equalizeHist(gray_image)\n",
    "    return enhanced_image\n",
    "\n",
    "def gaussian_blurring(image):\n",
    "    # Mengurangi noise pada gambar dengan Gaussian blur\n",
    "    blurred_image = cv2.GaussianBlur(image, (5, 5), 0)\n",
    "    return blurred_image\n",
    "\n",
    "def edge_detection(image):\n",
    "    # Menggunakan deteksi tepi (Canny edge detector)\n",
    "    edges = cv2.Canny(image, 100, 200)\n",
    "    return edges"
   ]
  },
  {
   "cell_type": "code",
   "execution_count": 7,
   "metadata": {},
   "outputs": [],
   "source": [
    "def main():\n",
    "    # Path ke direktori input gambar\n",
    "    input_path = r'C:\\Bangkit\\ML\\code\\preprocessing\\contrast-enhancement\\dataset-contrast-enhance'\n",
    "    \n",
    "    # Path ke direktori output gambar\n",
    "    output_path = r'C:\\Bangkit\\ML\\code\\preprocessing\\contrast-enhancement\\new-dataset-contrast-enhance'\n",
    "\n",
    "    # Jumlah folder dan jumlah gambar per folder\n",
    "    num_folders = 10\n",
    "    images_per_folder = 50\n",
    "\n",
    "  # Loop melalui setiap folder\n",
    "    for folder_idx in range(1, num_folders + 1):\n",
    "        folder_name = f'check{folder_idx}'\n",
    "        folder_input_path = os.path.join(input_path, folder_name)\n",
    "        folder_output_path = os.path.join(output_path, folder_name)\n",
    "        os.makedirs(folder_output_path, exist_ok=True)\n",
    "\n",
    "        # Loop melalui setiap gambar dalam folder\n",
    "        for image_idx in range(1, images_per_folder + 1):\n",
    "            image_filename = f'image{image_idx}.jpg'\n",
    "            input_image_path = os.path.join(folder_input_path, image_filename)\n",
    "            output_image_path = os.path.join(folder_output_path, image_filename)\n",
    "\n",
    "            # Pastikan file adalah file gambar\n",
    "            if os.path.isfile(input_image_path):\n",
    "                try:\n",
    "                    # Baca gambar\n",
    "                    image = cv2.imread(input_image_path)\n",
    "\n",
    "                    # Kontras Enhancement\n",
    "                    enhanced_image = contrast_enhancement(image)\n",
    "\n",
    "                    # Gaussian Blurring\n",
    "                    blurred_image = gaussian_blurring(enhanced_image)\n",
    "\n",
    "                    # Edge Detection\n",
    "                    edge_image = edge_detection(blurred_image)\n",
    "\n",
    "                    # Simpan gambar hasil proses\n",
    "                    cv2.imwrite(output_image_path, edge_image)\n",
    "                except Exception as e:\n",
    "                    print(f\"Error processing image: {input_image_path} - {str(e)}\")\n",
    "\n",
    "    print(\"Image processing completed.\")"
   ]
  },
  {
   "cell_type": "code",
   "execution_count": 8,
   "metadata": {},
   "outputs": [
    {
     "name": "stdout",
     "output_type": "stream",
     "text": [
      "Image processing completed.\n"
     ]
    }
   ],
   "source": [
    "if __name__ == \"__main__\":\n",
    "    main()"
   ]
  }
 ],
 "metadata": {
  "kernelspec": {
   "display_name": "Python 3",
   "language": "python",
   "name": "python3"
  },
  "language_info": {
   "codemirror_mode": {
    "name": "ipython",
    "version": 3
   },
   "file_extension": ".py",
   "mimetype": "text/x-python",
   "name": "python",
   "nbconvert_exporter": "python",
   "pygments_lexer": "ipython3",
   "version": "3.11.4"
  }
 },
 "nbformat": 4,
 "nbformat_minor": 2
}
