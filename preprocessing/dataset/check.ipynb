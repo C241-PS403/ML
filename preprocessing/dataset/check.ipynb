{
 "cells": [
  {
   "cell_type": "code",
   "execution_count": 1,
   "metadata": {},
   "outputs": [],
   "source": [
    "import os\n",
    "import cv2\n",
    "import pandas as pd"
   ]
  },
  {
   "cell_type": "code",
   "execution_count": 2,
   "metadata": {},
   "outputs": [],
   "source": [
    "def get_image_resolutions(folder_path):\n",
    "    resolutions = []\n",
    "    for filename in os.listdir(folder_path):\n",
    "        if filename.endswith(('.png', '.jpg', '.jpeg', '.bmp', '.tiff')):\n",
    "            filepath = os.path.join(folder_path, filename)\n",
    "            image = cv2.imread(filepath)\n",
    "            if image is not None:\n",
    "                height, width, _ = image.shape\n",
    "                resolutions.append((filename, width, height))\n",
    "    return resolutions"
   ]
  },
  {
   "cell_type": "code",
   "execution_count": 3,
   "metadata": {},
   "outputs": [
    {
     "name": "stdout",
     "output_type": "stream",
     "text": [
      "    Filename  Width  Height          Folder\n",
      "0      1.jpg    583     778  geblek-renteng\n",
      "1     10.jpg    700     500  geblek-renteng\n",
      "2     11.jpg    736     736  geblek-renteng\n",
      "3     12.jpg    499     521  geblek-renteng\n",
      "4     13.jpg   1280    1280  geblek-renteng\n",
      "..       ...    ...     ...             ...\n",
      "495   50.jpg    700     466      tujuh-rupa\n",
      "496    6.jpg    700     466      tujuh-rupa\n",
      "497    7.jpg   1600    1199      tujuh-rupa\n",
      "498    8.jpg   1600    1199      tujuh-rupa\n",
      "499    9.jpg   1600    1199      tujuh-rupa\n",
      "\n",
      "[500 rows x 4 columns]\n"
     ]
    }
   ],
   "source": [
    "def main():\n",
    "    dataset_dir = 'C:\\Bangkit\\ML\\code\\preprocessing\\dataset'\n",
    "    all_folder_data = []\n",
    "\n",
    "    for folder in os.listdir(dataset_dir):\n",
    "        folder_path = os.path.join(dataset_dir, folder)\n",
    "        if os.path.isdir(folder_path):\n",
    "            folder_resolutions = get_image_resolutions(folder_path)\n",
    "            df = pd.DataFrame(folder_resolutions, columns=['Filename', 'Width', 'Height'])\n",
    "            df['Folder'] = folder\n",
    "            all_folder_data.append(df)\n",
    "        else:\n",
    "            print(f'Folder {folder_path} does not exist')\n",
    "\n",
    "    result_df = pd.concat(all_folder_data, ignore_index=True)\n",
    "    print(result_df)\n",
    "\n",
    "    result_df.to_csv('C:\\Bangkit\\ML\\code\\preprocessing\\dataset\\check-reso.csv', index=False)\n",
    "if __name__ == \"__main__\":\n",
    "    main()"
   ]
  }
 ],
 "metadata": {
  "kernelspec": {
   "display_name": "Python 3",
   "language": "python",
   "name": "python3"
  },
  "language_info": {
   "codemirror_mode": {
    "name": "ipython",
    "version": 3
   },
   "file_extension": ".py",
   "mimetype": "text/x-python",
   "name": "python",
   "nbconvert_exporter": "python",
   "pygments_lexer": "ipython3",
   "version": "3.11.4"
  }
 },
 "nbformat": 4,
 "nbformat_minor": 2
}
