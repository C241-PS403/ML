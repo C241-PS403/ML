{
 "cells": [
  {
   "cell_type": "code",
   "execution_count": 7,
   "metadata": {},
   "outputs": [],
   "source": [
    "import cv2\n",
    "import os\n",
    "import csv"
   ]
  },
  {
   "cell_type": "code",
   "execution_count": 8,
   "metadata": {},
   "outputs": [],
   "source": [
    "def get_image_resolution(image_path):\n",
    "    \n",
    "    image = cv2.imread(image_path)\n",
    "    \n",
    "    height, width, _ = image.shape\n",
    "    return height, width"
   ]
  },
  {
   "cell_type": "code",
   "execution_count": 10,
   "metadata": {},
   "outputs": [],
   "source": [
    "def main():\n",
    "    \n",
    "    base_path = r'C:\\Bangkit\\ML\\code\\preprocessing\\resize\\new-dataset-resize'\n",
    "\n",
    "    \n",
    "    csv_file_path = os.path.join(base_path, 'after-image_resolution.csv')\n",
    "\n",
    "    \n",
    "    with open(csv_file_path, mode='w', newline='') as csv_file:\n",
    "        writer = csv.writer(csv_file)\n",
    "        \n",
    "        writer.writerow(['Folder', 'Filename', 'Height', 'Width'])\n",
    "\n",
    "        \n",
    "        for folder_name in os.listdir(base_path):\n",
    "            folder_path = os.path.join(base_path, folder_name)\n",
    "\n",
    "            \n",
    "            if os.path.isdir(folder_path):\n",
    "                \n",
    "                for filename in os.listdir(folder_path):\n",
    "                    image_path = os.path.join(folder_path, filename)\n",
    "\n",
    "                    \n",
    "                    if os.path.isfile(image_path):\n",
    "                        try:\n",
    "                            \n",
    "                            height, width = get_image_resolution(image_path)\n",
    "                            \n",
    "                            writer.writerow([folder_name, filename, height, width])\n",
    "                        except Exception as e:\n",
    "                            print(f\"Error processing image {image_path}: {str(e)}\")\n",
    "\n",
    "    print(\"Image resolution check completed. CSV file saved at:\", csv_file_path)"
   ]
  },
  {
   "cell_type": "code",
   "execution_count": 11,
   "metadata": {},
   "outputs": [
    {
     "name": "stdout",
     "output_type": "stream",
     "text": [
      "Image resolution check completed. CSV file saved at: C:\\Bangkit\\ML\\code\\preprocessing\\resize\\new-dataset-resize\\after-image_resolution.csv\n"
     ]
    }
   ],
   "source": [
    "if __name__ == \"__main__\":\n",
    "    main()"
   ]
  }
 ],
 "metadata": {
  "kernelspec": {
   "display_name": "Python 3",
   "language": "python",
   "name": "python3"
  },
  "language_info": {
   "codemirror_mode": {
    "name": "ipython",
    "version": 3
   },
   "file_extension": ".py",
   "mimetype": "text/x-python",
   "name": "python",
   "nbconvert_exporter": "python",
   "pygments_lexer": "ipython3",
   "version": "3.11.4"
  }
 },
 "nbformat": 4,
 "nbformat_minor": 2
}
